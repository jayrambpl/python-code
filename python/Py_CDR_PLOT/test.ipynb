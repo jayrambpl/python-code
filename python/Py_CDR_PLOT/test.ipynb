{
 "cells": [
  {
   "cell_type": "code",
   "execution_count": 2,
   "id": "38a1df50-dfa6-4290-8f4f-4aa3cfa16b0a",
   "metadata": {},
   "outputs": [
    {
     "name": "stdout",
     "output_type": "stream",
     "text": [
      "   SEQUENCE_NUMBER  REFERENCE_NUMBER CAMEL_CALL_REFERENCE SUBS_ROAM_CIRCLE  \\\n",
      "0         11336130           3565533                  NaN               DL   \n",
      "1         11336131           3565544                  NaN               DL   \n",
      "2         11336132           3554744           7e9adb000e               DL   \n",
      "3         11336134           3560715           28f570006e               DL   \n",
      "4         11336138           3564941           28ff34006e               DL   \n",
      "5         11336142           3565569                  NaN               DL   \n",
      "6         11336143           3563567           fbe555000b               DL   \n",
      "7         11336144           3565577                  NaN               DL   \n",
      "8         11336145           3565427                  NaN               DL   \n",
      "\n",
      "  SUBS_HOME_CIRCLE  CALL_EVENT_TYPE  CALL_EVENT_DIRECTION  ICR_FLAG  \\\n",
      "0               DL                7                     1         0   \n",
      "1               DL                7                     1         0   \n",
      "2               DL                2                     1         0   \n",
      "3               DL                1                     2         0   \n",
      "4               DL                1                     2         0   \n",
      "5               DL                7                     1         0   \n",
      "6               DL                2                     1         0   \n",
      "7               DL                7                     1         0   \n",
      "8               DL                1                     2         0   \n",
      "\n",
      "   CUST_TYPE  PARTIAL_REC_TYPE  ...  FIL_VIG_FLAG  BASIC_SERVICE_CODE  \\\n",
      "0          1                 0  ...           NaN                  21   \n",
      "1          2                 0  ...           NaN                  21   \n",
      "2          1                 0  ...           NaN                  12   \n",
      "3          1                 0  ...           NaN                  11   \n",
      "4          1                 0  ...           NaN                  13   \n",
      "5          1                 0  ...           NaN                  21   \n",
      "6          1                 0  ...           NaN                  11   \n",
      "7          1                 0  ...           NaN                  21   \n",
      "8          1                 0  ...           NaN                  12   \n",
      "\n",
      "   FACILITY_USAGE CUG_ILC  CUG_ACCESS  CUG_INFO  ADROU  SMS_LENGTH  DUMMY_10  \\\n",
      "0             NaN     NaN         NaN       NaN    NaN         NaN       NaN   \n",
      "1             NaN     NaN         NaN       NaN    NaN         NaN       NaN   \n",
      "2             NaN     NaN         NaN       NaN    NaN         NaN       NaN   \n",
      "3             NaN     NaN         NaN       NaN    NaN         NaN       NaN   \n",
      "4             NaN     NaN         NaN       NaN    NaN         NaN       NaN   \n",
      "5             NaN     NaN         NaN       NaN    NaN         NaN       NaN   \n",
      "6             NaN     NaN         NaN       NaN    NaN         NaN       NaN   \n",
      "7             NaN     NaN         NaN       NaN    NaN         NaN       NaN   \n",
      "8             NaN     NaN         NaN       NaN    NaN         NaN       NaN   \n",
      "\n",
      "   DUMMY_11  \n",
      "0       NaN  \n",
      "1       NaN  \n",
      "2       NaN  \n",
      "3       NaN  \n",
      "4       NaN  \n",
      "5       NaN  \n",
      "6       NaN  \n",
      "7       NaN  \n",
      "8       NaN  \n",
      "\n",
      "[9 rows x 52 columns]\n"
     ]
    }
   ],
   "source": [
    "import pandas as pd\n",
    "import numpy as np\n",
    "df = pd.read_csv(\"matrix1.csv\")\n",
    "print(df)"
   ]
  },
  {
   "cell_type": "code",
   "execution_count": 3,
   "id": "221fcf6e-26c0-463e-b9d0-34f9748d849f",
   "metadata": {},
   "outputs": [
    {
     "name": "stdout",
     "output_type": "stream",
     "text": [
      "   SEQUENCE_NUMBER  REFERENCE_NUMBER CAMEL_CALL_REFERENCE SUBS_ROAM_CIRCLE  \\\n",
      "0         11336130           3565533                  NaN               DL   \n",
      "1         11336131           3565544                  NaN               DL   \n",
      "2         11336132           3554744           7e9adb000e               DL   \n",
      "3         11336134           3560715           28f570006e               DL   \n",
      "4         11336138           3564941           28ff34006e               DL   \n",
      "\n",
      "  SUBS_HOME_CIRCLE  CALL_EVENT_TYPE  CALL_EVENT_DIRECTION  ICR_FLAG  \\\n",
      "0               DL                7                     1         0   \n",
      "1               DL                7                     1         0   \n",
      "2               DL                2                     1         0   \n",
      "3               DL                1                     2         0   \n",
      "4               DL                1                     2         0   \n",
      "\n",
      "   CUST_TYPE  PARTIAL_REC_TYPE  ...  FIL_VIG_FLAG  BASIC_SERVICE_CODE  \\\n",
      "0          1                 0  ...           NaN                  21   \n",
      "1          2                 0  ...           NaN                  21   \n",
      "2          1                 0  ...           NaN                  12   \n",
      "3          1                 0  ...           NaN                  11   \n",
      "4          1                 0  ...           NaN                  13   \n",
      "\n",
      "   FACILITY_USAGE CUG_ILC  CUG_ACCESS  CUG_INFO  ADROU  SMS_LENGTH  DUMMY_10  \\\n",
      "0             NaN     NaN         NaN       NaN    NaN         NaN       NaN   \n",
      "1             NaN     NaN         NaN       NaN    NaN         NaN       NaN   \n",
      "2             NaN     NaN         NaN       NaN    NaN         NaN       NaN   \n",
      "3             NaN     NaN         NaN       NaN    NaN         NaN       NaN   \n",
      "4             NaN     NaN         NaN       NaN    NaN         NaN       NaN   \n",
      "\n",
      "   DUMMY_11  \n",
      "0       NaN  \n",
      "1       NaN  \n",
      "2       NaN  \n",
      "3       NaN  \n",
      "4       NaN  \n",
      "\n",
      "[5 rows x 52 columns]\n"
     ]
    }
   ],
   "source": [
    "print(df.head(5))\n"
   ]
  },
  {
   "cell_type": "code",
   "execution_count": 7,
   "id": "5bfd8c02-9b61-4770-9cdc-06ea6d54c8a2",
   "metadata": {},
   "outputs": [
    {
     "name": "stdout",
     "output_type": "stream",
     "text": [
      "0    11336130\n",
      "1    11336131\n",
      "2    11336132\n",
      "3    11336134\n",
      "4    11336138\n",
      "5    11336142\n",
      "6    11336143\n",
      "7    11336144\n",
      "8    11336145\n",
      "Name: SEQUENCE_NUMBER, dtype: int64\n"
     ]
    }
   ],
   "source": [
    "print(df['SEQUENCE_NUMBER'])"
   ]
  },
  {
   "cell_type": "code",
   "execution_count": null,
   "id": "d7409aa3-0e24-4fe0-817b-1fa9588c4b97",
   "metadata": {},
   "outputs": [],
   "source": []
  }
 ],
 "metadata": {
  "kernelspec": {
   "display_name": "Python 3 (ipykernel)",
   "language": "python",
   "name": "python3"
  },
  "language_info": {
   "codemirror_mode": {
    "name": "ipython",
    "version": 3
   },
   "file_extension": ".py",
   "mimetype": "text/x-python",
   "name": "python",
   "nbconvert_exporter": "python",
   "pygments_lexer": "ipython3",
   "version": "3.11.4"
  }
 },
 "nbformat": 4,
 "nbformat_minor": 5
}
